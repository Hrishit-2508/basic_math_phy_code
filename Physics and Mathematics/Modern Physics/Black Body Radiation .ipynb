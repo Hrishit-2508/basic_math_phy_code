{
 "cells": [
  {
   "cell_type": "markdown",
   "id": "f9e6668d",
   "metadata": {},
   "source": [
    "**Derivation of Stephean-Boltzmann Law from Planck Distribution Law**"
   ]
  },
  {
   "cell_type": "markdown",
   "id": "0f78803d",
   "metadata": {},
   "source": [
    "Energy density in the wavlength range $\\lambda$ to $(\\lambda + d\\lambda)$ is, \n",
    "$$ u_\\lambda = \\frac{8 \\pi c}{\\lambda^{5}} . \\frac{h}{(e^{\\frac{hc}{KT\\lambda}} - 1 )} $$"
   ]
  },
  {
   "cell_type": "code",
   "execution_count": 6,
   "id": "6153269d",
   "metadata": {},
   "outputs": [],
   "source": [
    "import sympy as smp\n",
    "import numpy as np \n",
    "import matplotlib.pyplot as plt \n",
    "import scipy as sp\n",
    "from scipy.optimize import curve_fit"
   ]
  },
  {
   "cell_type": "code",
   "execution_count": 10,
   "id": "d5c92e81",
   "metadata": {},
   "outputs": [
    {
     "data": {
      "text/latex": [
       "$\\displaystyle \\infty \\operatorname{sign}{\\left(\\frac{h u^{3} e^{1 - \\frac{h u}{K_{B} T}}}{c^{3}} \\right)}$"
      ],
      "text/plain": [
       "oo*sign(h*u**3*exp(1 - h*u/(K_B*T))/c**3)"
      ]
     },
     "execution_count": 10,
     "metadata": {},
     "output_type": "execute_result"
    }
   ],
   "source": [
    "x, h, nu, K, T, c = smp.symbols('x, h, \\nu, K_B, T, c')\n",
    "f = (8* smp.pi * (nu)**3 * h)/((c**3)*(smp.exp((h* (nu))/(K*T)-1)))\n",
    "z = smp.integrate(f, (x, 0, np.inf))\n",
    "z"
   ]
  },
  {
   "cell_type": "code",
   "execution_count": null,
   "id": "fce7d6f9",
   "metadata": {},
   "outputs": [],
   "source": []
  }
 ],
 "metadata": {
  "kernelspec": {
   "display_name": "Python 3 (ipykernel)",
   "language": "python",
   "name": "python3"
  },
  "language_info": {
   "codemirror_mode": {
    "name": "ipython",
    "version": 3
   },
   "file_extension": ".py",
   "mimetype": "text/x-python",
   "name": "python",
   "nbconvert_exporter": "python",
   "pygments_lexer": "ipython3",
   "version": "3.9.7"
  }
 },
 "nbformat": 4,
 "nbformat_minor": 5
}
