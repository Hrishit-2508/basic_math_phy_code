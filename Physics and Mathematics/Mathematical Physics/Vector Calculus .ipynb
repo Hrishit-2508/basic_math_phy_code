{
 "cells": [
  {
   "cell_type": "code",
   "execution_count": 22,
   "id": "df0c3a22",
   "metadata": {},
   "outputs": [],
   "source": [
    "from sympy import *\n",
    "import numpy as np \n",
    "import matplotlib.pyplot as plt \n"
   ]
  },
  {
   "cell_type": "code",
   "execution_count": 23,
   "id": "a24111e5",
   "metadata": {},
   "outputs": [],
   "source": [
    "x, y, z= symbols('x y z', real = True, Positive = True)"
   ]
  },
  {
   "cell_type": "markdown",
   "id": "04cf6c77",
   "metadata": {},
   "source": [
    "## Representation of Vector using Matrix"
   ]
  },
  {
   "cell_type": "markdown",
   "id": "39ba28b2",
   "metadata": {},
   "source": [
    "$$ \\vec{F} = 4xz\\hat{i} + yz\\hat{j} - y^2\\hat{k}$$"
   ]
  },
  {
   "cell_type": "code",
   "execution_count": 24,
   "id": "759eac13",
   "metadata": {},
   "outputs": [],
   "source": [
    "from sympy.vector import CoordSys3D\n",
    "m = Matrix([4*x*z, y*z, -y**2])\n",
    "C = CoordSys3D('C')\n",
    "v = matrix_to_vector(m, C)"
   ]
  },
  {
   "cell_type": "code",
   "execution_count": 25,
   "id": "e6021254",
   "metadata": {},
   "outputs": [
    {
     "data": {
      "text/latex": [
       "$\\displaystyle (4 x z)\\mathbf{\\hat{i}_{C}} + (y z)\\mathbf{\\hat{j}_{C}} + (- y^{2})\\mathbf{\\hat{k}_{C}}$"
      ],
      "text/plain": [
       "4*x*z*C.i + y*z*C.j + (-y**2)*C.k"
      ]
     },
     "execution_count": 25,
     "metadata": {},
     "output_type": "execute_result"
    }
   ],
   "source": [
    "v"
   ]
  },
  {
   "cell_type": "markdown",
   "id": "f2c67b18",
   "metadata": {},
   "source": [
    "## Curl of a vector field "
   ]
  },
  {
   "cell_type": "code",
   "execution_count": 27,
   "id": "50fc6595",
   "metadata": {},
   "outputs": [
    {
     "data": {
      "text/latex": [
       "$\\displaystyle \\mathbf{\\hat{0}}$"
      ],
      "text/plain": [
       "0"
      ]
     },
     "execution_count": 27,
     "metadata": {},
     "output_type": "execute_result"
    }
   ],
   "source": [
    "from sympy.vector import curl\n",
    "curl(v)"
   ]
  },
  {
   "cell_type": "code",
   "execution_count": null,
   "id": "21cf4bfe",
   "metadata": {},
   "outputs": [],
   "source": []
  },
  {
   "cell_type": "code",
   "execution_count": 44,
   "id": "492f0718",
   "metadata": {},
   "outputs": [
    {
     "data": {
      "text/latex": [
       "$\\displaystyle (2 x - y)\\mathbf{\\hat{i}_{C}} + (- y z^{2})\\mathbf{\\hat{j}_{C}} + (- y^{2} z)\\mathbf{\\hat{k}_{C}}$"
      ],
      "text/plain": [
       "(2*x - y)*C.i + (-y*z**2)*C.j + (-y**2*z)*C.k"
      ]
     },
     "execution_count": 44,
     "metadata": {},
     "output_type": "execute_result"
    }
   ],
   "source": [
    "v1"
   ]
  },
  {
   "cell_type": "code",
   "execution_count": 36,
   "id": "2a232bd4",
   "metadata": {},
   "outputs": [
    {
     "data": {
      "text/latex": [
       "$\\displaystyle \\mathbf{\\hat{0}}$"
      ],
      "text/plain": [
       "0"
      ]
     },
     "execution_count": 36,
     "metadata": {},
     "output_type": "execute_result"
    }
   ],
   "source": [
    "curl(v1)"
   ]
  },
  {
   "cell_type": "code",
   "execution_count": 37,
   "id": "a11f6771",
   "metadata": {},
   "outputs": [],
   "source": [
    "from sympy.vector import divergence "
   ]
  },
  {
   "cell_type": "code",
   "execution_count": 38,
   "id": "dfe112c8",
   "metadata": {},
   "outputs": [
    {
     "data": {
      "text/latex": [
       "$\\displaystyle 0$"
      ],
      "text/plain": [
       "0"
      ]
     },
     "execution_count": 38,
     "metadata": {},
     "output_type": "execute_result"
    }
   ],
   "source": [
    "divergence(v)"
   ]
  },
  {
   "cell_type": "code",
   "execution_count": 41,
   "id": "5263b013",
   "metadata": {},
   "outputs": [],
   "source": [
    "R = CoordSys3D('R')\n",
    "v2 = R.y*R.z*R.i + R.x*R.z*R.j + R.x*R.y*R.k"
   ]
  },
  {
   "cell_type": "code",
   "execution_count": 42,
   "id": "c41f7495",
   "metadata": {},
   "outputs": [
    {
     "data": {
      "text/latex": [
       "$\\displaystyle \\mathbf{\\hat{0}}$"
      ],
      "text/plain": [
       "0"
      ]
     },
     "execution_count": 42,
     "metadata": {},
     "output_type": "execute_result"
    }
   ],
   "source": [
    "curl(v2)"
   ]
  },
  {
   "cell_type": "code",
   "execution_count": 43,
   "id": "69fd356e",
   "metadata": {},
   "outputs": [
    {
     "data": {
      "text/latex": [
       "$\\displaystyle (\\mathbf{{x}_{R}} \\mathbf{{y}_{R}})\\mathbf{\\hat{j}_{R}} + (- \\mathbf{{x}_{R}} \\mathbf{{z}_{R}})\\mathbf{\\hat{k}_{R}}$"
      ],
      "text/plain": [
       "R.x*R.y*R.j + (-R.x*R.z)*R.k"
      ]
     },
     "execution_count": 43,
     "metadata": {},
     "output_type": "execute_result"
    }
   ],
   "source": [
    "v3 = R.x*R.y*R.z*R.i\n",
    "curl(v3)"
   ]
  },
  {
   "cell_type": "code",
   "execution_count": 49,
   "id": "1ce8adcc",
   "metadata": {},
   "outputs": [],
   "source": [
    "v4 = R.x**2*R.i + R.x**2*R.y*R.j + R.z*R.y**2*R.k\n",
    "div4 = divergence(v4)"
   ]
  },
  {
   "cell_type": "code",
   "execution_count": 50,
   "id": "6777138c",
   "metadata": {},
   "outputs": [
    {
     "data": {
      "text/latex": [
       "$\\displaystyle \\mathbf{{x}_{R}}^{2} + 2 \\mathbf{{x}_{R}} + \\mathbf{{y}_{R}}^{2}$"
      ],
      "text/plain": [
       "R.x**2 + 2*R.x + R.y**2"
      ]
     },
     "execution_count": 50,
     "metadata": {},
     "output_type": "execute_result"
    }
   ],
   "source": [
    "div4"
   ]
  },
  {
   "cell_type": "code",
   "execution_count": 53,
   "id": "48b2c157",
   "metadata": {},
   "outputs": [
    {
     "ename": "TypeError",
     "evalue": "unsupported operand type(s) for *: 'Symbol' and 'CoordSys3D'",
     "output_type": "error",
     "traceback": [
      "\u001b[1;31m---------------------------------------------------------------------------\u001b[0m",
      "\u001b[1;31mTypeError\u001b[0m                                 Traceback (most recent call last)",
      "\u001b[1;32m~\\AppData\\Local\\Temp/ipykernel_10876/1868322531.py\u001b[0m in \u001b[0;36m<module>\u001b[1;34m\u001b[0m\n\u001b[1;32m----> 1\u001b[1;33m \u001b[0mdiv4\u001b[0m\u001b[1;33m.\u001b[0m\u001b[0msubs\u001b[0m\u001b[1;33m(\u001b[0m\u001b[1;33m[\u001b[0m\u001b[1;33m(\u001b[0m\u001b[0mx\u001b[0m\u001b[1;33m*\u001b[0m\u001b[0mR\u001b[0m\u001b[1;33m,\u001b[0m\u001b[1;36m1\u001b[0m\u001b[1;33m)\u001b[0m\u001b[1;33m,\u001b[0m \u001b[1;33m(\u001b[0m\u001b[0my\u001b[0m\u001b[1;33m*\u001b[0m\u001b[0mR\u001b[0m\u001b[1;33m,\u001b[0m\u001b[1;36m1\u001b[0m\u001b[1;33m)\u001b[0m\u001b[1;33m,\u001b[0m \u001b[1;33m(\u001b[0m\u001b[0mz\u001b[0m\u001b[1;33m*\u001b[0m\u001b[0mR\u001b[0m\u001b[1;33m,\u001b[0m\u001b[1;36m1\u001b[0m\u001b[1;33m)\u001b[0m\u001b[1;33m]\u001b[0m\u001b[1;33m)\u001b[0m\u001b[1;33m.\u001b[0m\u001b[0mevalf\u001b[0m\u001b[1;33m(\u001b[0m\u001b[1;33m)\u001b[0m\u001b[1;33m\u001b[0m\u001b[1;33m\u001b[0m\u001b[0m\n\u001b[0m",
      "\u001b[1;31mTypeError\u001b[0m: unsupported operand type(s) for *: 'Symbol' and 'CoordSys3D'"
     ]
    }
   ],
   "source": [
    "div4.subs([(x,1), (y*R,1), (z*R,1)]).evalf()"
   ]
  },
  {
   "cell_type": "code",
   "execution_count": null,
   "id": "ea2e5854",
   "metadata": {},
   "outputs": [],
   "source": []
  }
 ],
 "metadata": {
  "kernelspec": {
   "display_name": "Python 3 (ipykernel)",
   "language": "python",
   "name": "python3"
  },
  "language_info": {
   "codemirror_mode": {
    "name": "ipython",
    "version": 3
   },
   "file_extension": ".py",
   "mimetype": "text/x-python",
   "name": "python",
   "nbconvert_exporter": "python",
   "pygments_lexer": "ipython3",
   "version": "3.9.7"
  }
 },
 "nbformat": 4,
 "nbformat_minor": 5
}
