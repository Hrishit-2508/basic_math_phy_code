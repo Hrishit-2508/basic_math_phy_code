{
 "cells": [
  {
   "cell_type": "markdown",
   "id": "f1af7aa0",
   "metadata": {},
   "source": [
    "# Wavefunction for a 1D quantum harmonic oscillator"
   ]
  },
  {
   "cell_type": "markdown",
   "id": "b6aeb6f3",
   "metadata": {},
   "source": [
    "Robert Johansson (robert@riken.jp)"
   ]
  },
  {
   "cell_type": "code",
   "execution_count": null,
   "id": "77993854",
   "metadata": {},
   "outputs": [],
   "source": []
  },
  {
   "cell_type": "code",
   "execution_count": 4,
   "id": "e712d931",
   "metadata": {},
   "outputs": [],
   "source": [
    "from scipy import *\n",
    "from scipy import optimize"
   ]
  },
  {
   "cell_type": "code",
   "execution_count": 5,
   "id": "2c897b22",
   "metadata": {},
   "outputs": [
    {
     "ename": "ModuleNotFoundError",
     "evalue": "No module named 'wavefunction'",
     "output_type": "error",
     "traceback": [
      "\u001b[1;31m---------------------------------------------------------------------------\u001b[0m",
      "\u001b[1;31mModuleNotFoundError\u001b[0m                       Traceback (most recent call last)",
      "Cell \u001b[1;32mIn[5], line 1\u001b[0m\n\u001b[1;32m----> 1\u001b[0m \u001b[38;5;28;01mfrom\u001b[39;00m \u001b[38;5;21;01mwavefunction\u001b[39;00m \u001b[38;5;28;01mimport\u001b[39;00m \u001b[38;5;241m*\u001b[39m\n\u001b[0;32m      2\u001b[0m \u001b[38;5;28;01mfrom\u001b[39;00m \u001b[38;5;21;01mwavefunction\u001b[39;00m\u001b[38;5;21;01m.\u001b[39;00m\u001b[38;5;21;01mwavefunction1d\u001b[39;00m \u001b[38;5;28;01mimport\u001b[39;00m \u001b[38;5;241m*\u001b[39m\n",
      "\u001b[1;31mModuleNotFoundError\u001b[0m: No module named 'wavefunction'"
     ]
    }
   ],
   "source": [
    "from wavefunction import *\n",
    "from wavefunction.wavefunction1d import *"
   ]
  },
  {
   "cell_type": "markdown",
   "id": "1661359b",
   "metadata": {},
   "source": [
    "## Problem parameters"
   ]
  },
  {
   "cell_type": "code",
   "execution_count": 6,
   "id": "56ac3697",
   "metadata": {},
   "outputs": [],
   "source": [
    "h = 1\n",
    "h_ = h/(2*pi)\n",
    "e = 1.602e-19\n",
    "cf = 1          # if cf = h_, use units where h_ = 1\n",
    "\n",
    "mm = 1          # oscillator mass\n",
    "omega = 2 * pi  # oscillator frequency in GHz\n",
    "x0 = 0          # shift in oscillator potiential minimum\n",
    "\n",
    "args = {'w': omega, 'm': mm, 'x0': x0}\n",
    "\n",
    "k = -h_ ** 2 / (2 * mm)\n",
    "\n",
    "x_min = -pi\n",
    "x_max =  pi\n",
    "N = 750 "
   ]
  },
  {
   "cell_type": "markdown",
   "id": "4d432fe9",
   "metadata": {},
   "source": [
    "## Potential"
   ]
  },
  {
   "cell_type": "code",
   "execution_count": 7,
   "id": "a0c316df",
   "metadata": {},
   "outputs": [],
   "source": [
    "def U_ho(x, args):\n",
    "    \"\"\"\n",
    "    Harmonic oscillator potential\n",
    "    \"\"\"\n",
    "    \n",
    "    omega = args['w']\n",
    "    m     = args['m']\n",
    "    x0    = args['x0']\n",
    "    \n",
    "    u = 1/2.0 * m * (omega ** 2) * ((x - x0) ** 2)\n",
    "\n",
    "    return u"
   ]
  },
  {
   "cell_type": "markdown",
   "id": "f8b9e615",
   "metadata": {},
   "source": [
    "### Find the minimum point for the potential"
   ]
  },
  {
   "cell_type": "code",
   "execution_count": 8,
   "id": "1e418865",
   "metadata": {},
   "outputs": [],
   "source": [
    "x = linspace(x_min, x_max, N)"
   ]
  },
  {
   "cell_type": "code",
   "execution_count": 9,
   "id": "d5f0c5a5",
   "metadata": {},
   "outputs": [
    {
     "name": "stdout",
     "output_type": "stream",
     "text": [
      "Optimization terminated successfully.\n",
      "         Current function value: 0.000000\n",
      "         Iterations: 3\n",
      "         Function evaluations: 6\n"
     ]
    }
   ],
   "source": [
    "U = U_ho(x, args);\n",
    "\n",
    "x_opt_min = optimize.fmin(U_ho, [0.0], (args,))"
   ]
  },
  {
   "cell_type": "code",
   "execution_count": 10,
   "id": "5f7cd221",
   "metadata": {},
   "outputs": [
    {
     "name": "stdout",
     "output_type": "stream",
     "text": [
      "Found potential minima at = 0.000000\n"
     ]
    }
   ],
   "source": [
    "print(\"Found potential minima at = %f\" % x_opt_min)"
   ]
  },
  {
   "cell_type": "markdown",
   "id": "6c334b46",
   "metadata": {},
   "source": [
    "### Plot the potential"
   ]
  },
  {
   "cell_type": "code",
   "execution_count": 11,
   "id": "4095beab",
   "metadata": {},
   "outputs": [
    {
     "data": {
      "image/png": "[encoded data removed]",
      "text/plain": [
       "<Figure size 640x480 with 1 Axes>"
      ]
     },
     "metadata": {},
     "output_type": "display_data"
    }
   ],
   "source": [
    "fig, ax = subplots()\n",
    "\n",
    "ax.plot(x, U)\n",
    "ax.plot(x_opt_min, U_ho(x_opt_min, args), 'o')\n",
    "\n",
    "ax.set_ylim(-10, 80)\n",
    "ax.set_xlabel(r'$x$', fontsize=18)\n",
    "ax.set_ylabel(r'$U(x)$', fontsize=18);"
   ]
  },
  {
   "cell_type": "markdown",
   "id": "572fe658",
   "metadata": {},
   "source": [
    "## Eigenstates and eigenvalues"
   ]
  },
  {
   "cell_type": "code",
   "execution_count": null,
   "id": "0535024e",
   "metadata": {},
   "outputs": [],
   "source": [
    "u = assemble_u_potential(N, U_ho, x, args)\n",
    "\n",
    "K = assemble_K(N, k, x_min, x_max)\n",
    "\n",
    "V = assemble_V(N, u, x_min, x_max)\n",
    "\n",
    "H = K + V\n",
    "\n",
    "evals, evecs = solve_eigenproblem(H)"
   ]
  },
  {
   "cell_type": "code",
   "execution_count": null,
   "id": "fb71ef6a",
   "metadata": {},
   "outputs": [],
   "source": [
    "NN = 10\n",
    "\n",
    "fig, axes = subplots(NN, 1, figsize=(10,NN*1), sharex=True, sharey=True)\n",
    "\n",
    "for n in range(NN):\n",
    "    Y = evecs[NN-n-1]\n",
    "    axes[n].plot(x, Y.real)\n",
    "\n",
    "axes[n].set_xlim(-1, 1)\n",
    "axes[n].set_xlabel(r'$x$', fontsize=18)\n",
    "#axes[n].set_ylabel(r'$\\Psi_n(x)$', fontsize=18);\n",
    "fig.tight_layout();"
   ]
  },
  {
   "cell_type": "code",
   "execution_count": null,
   "id": "763fedd4",
   "metadata": {},
   "outputs": [],
   "source": [
    "fig, ax = subplots(figsize=(12,8))\n",
    "\n",
    "ax.plot(x, U, 'k')\n",
    "for n in range(10):\n",
    "    Y = evals[n] + evecs[n]\n",
    "\n",
    "    mask = where(Y > U)    \n",
    "    ax.plot(x[mask], evals[n].real * ones(shape(x))[mask], 'k--')\n",
    "\n",
    "    mask = where(Y > U-2.0)\n",
    "    ax.plot(x[mask], Y[mask].real)\n",
    "    \n",
    "ax.set_xlim(-1, 1)\n",
    "ax.set_ylim(0, 10)\n",
    "ax.set_xlabel(r'$x$', fontsize=18)\n",
    "ax.set_ylabel(r'$U(x)$', fontsize=18);"
   ]
  },
  {
   "cell_type": "markdown",
   "id": "97bd73c1",
   "metadata": {},
   "source": [
    "## Identify bound states"
   ]
  },
  {
   "cell_type": "code",
   "execution_count": null,
   "id": "50deb1d0",
   "metadata": {},
   "outputs": [],
   "source": [
    "boundidx = arange(10)\n",
    "nbound = len(boundidx)\n",
    "            \n",
    "print \"Found bound states: \", boundidx"
   ]
  },
  {
   "cell_type": "markdown",
   "id": "e02dadb0",
   "metadata": {},
   "source": [
    "## Evaluate transition matrix elements"
   ]
  },
  {
   "cell_type": "code",
   "execution_count": null,
   "id": "7c5278f7",
   "metadata": {},
   "outputs": [],
   "source": [
    "inner_prod = zeros((len(boundidx), len(boundidx))).astype(np.complex)\n",
    "expect_pos = zeros((len(boundidx), len(boundidx))).astype(np.complex)\n",
    "expect_kin = zeros((len(boundidx), len(boundidx))).astype(np.complex)\n",
    "\n",
    "for i, l in enumerate(boundidx):\n",
    "    for j, k in enumerate(boundidx):\n",
    "    \n",
    "        psi_l = wavefunction_normalize(x, evecs[l])\n",
    "        psi_k = wavefunction_normalize(x, evecs[k])\n",
    "    \n",
    "        inner_prod[i,j] = inner_product(x, psi_l, psi_k)                 # <psi_l|psi_k>\n",
    "        expect_pos[i,j] = inner_product(x, psi_l, x * psi_k)             # <psi_l|x|psi_k>\n",
    "        expect_kin[i,j] = inner_product(x, psi_l, derivative(x, psi_k))  # <psi_l|p|psi_k>"
   ]
  },
  {
   "cell_type": "code",
   "execution_count": null,
   "id": "0c767273",
   "metadata": {},
   "outputs": [],
   "source": [
    "print \"eigenenergies = \" \n",
    "\n",
    "evals[0:nbound].real"
   ]
  },
  {
   "cell_type": "code",
   "execution_count": null,
   "id": "c6e02060",
   "metadata": {},
   "outputs": [],
   "source": [
    "print(\"Harmonicity:\")\n",
    "\n",
    "((evals[boundidx] - evals[boundidx[0]]) / (evals[boundidx[1]]-evals[boundidx[0]])).real"
   ]
  },
  {
   "cell_type": "code",
   "execution_count": null,
   "id": "38dc7d9b",
   "metadata": {},
   "outputs": [],
   "source": [
    "print \"orthogonality:\\n\"\n",
    "print_matrix(inner_prod)"
   ]
  },
  {
   "cell_type": "code",
   "execution_count": null,
   "id": "02df4fd7",
   "metadata": {},
   "outputs": [],
   "source": [
    "print \"expect_pos:\\n\"\n",
    "print_matrix(expect_pos)"
   ]
  },
  {
   "cell_type": "code",
   "execution_count": null,
   "id": "d8146a15",
   "metadata": {},
   "outputs": [],
   "source": [
    "print \"expect_kin:\\n\"\n",
    "print_matrix(expect_kin)"
   ]
  },
  {
   "cell_type": "code",
   "execution_count": null,
   "id": "1e889b13",
   "metadata": {},
   "outputs": [],
   "source": []
  }
 ],
 "metadata": {
  "kernelspec": {
   "display_name": "Python 3 (ipykernel)",
   "language": "python",
   "name": "python3"
  },
  "language_info": {
   "codemirror_mode": {
    "name": "ipython",
    "version": 3
   },
   "file_extension": ".py",
   "mimetype": "text/x-python",
   "name": "python",
   "nbconvert_exporter": "python",
   "pygments_lexer": "ipython3",
   "version": "3.10.9"
  }
 },
 "nbformat": 4,
 "nbformat_minor": 1
}
